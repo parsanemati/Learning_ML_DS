{
 "cells": [
  {
   "cell_type": "code",
   "execution_count": 13,
   "metadata": {},
   "outputs": [],
   "source": [
    "from sklearn import datasets\n",
    "from sklearn.ensemble import RandomForestClassifier\n",
    "from sklearn.linear_model import LogisticRegression\n",
    "from sklearn.naive_bayes import GaussianNB \n",
    "from sklearn.neighbors import KNeighborsClassifier\n",
    "from mlxtend.classifier import StackingClassifier\n",
    "from sklearn.model_selection import cross_validate , cross_val_score\n",
    "import numpy as np\n",
    "from sklearn.tree import DecisionTreeClassifier\n",
    "iris = datasets.load_iris()\n",
    "X, y = iris.data[:, 1:3], iris.target\n",
    "\n",
    "def CalculateAccuracy(y_test,pred_label):\n",
    "    nnz = np.shape(y_test)[0] - np.count_nonzero(pred_label - y_test)\n",
    "    acc = 100*nnz/float(np.shape(y_test)[0])\n",
    "    return acc"
   ]
  },
  {
   "cell_type": "code",
   "execution_count": 5,
   "metadata": {},
   "outputs": [
    {
     "data": {
      "text/plain": [
       "GaussianNB(priors=None, var_smoothing=1e-09)"
      ]
     },
     "execution_count": 5,
     "metadata": {},
     "output_type": "execute_result"
    }
   ],
   "source": [
    "clf1 = KNeighborsClassifier(n_neighbors=2)\n",
    "clf2 = RandomForestClassifier(n_estimators = 2,random_state=1)\n",
    "clf3 = GaussianNB()\n",
    "lr = LogisticRegression()\n",
    "\n",
    "clf1.fit(X, y)\n",
    "clf2.fit(X, y)\n",
    "clf3.fit(X, y)\n"
   ]
  },
  {
   "cell_type": "code",
   "execution_count": 6,
   "metadata": {},
   "outputs": [
    {
     "name": "stdout",
     "output_type": "stream",
     "text": [
      "accuracy from KNN: 96.66666666666667\n",
      "accuracy from Random Forest: 94.66666666666667\n",
      "accuracy from Naive Bays: 92.0\n"
     ]
    }
   ],
   "source": [
    "f1 = clf1.predict(X)\n",
    "acc1 = CalculateAccuracy(y, f1)\n",
    "print(\"accuracy from KNN: \"+str(acc1) )\n",
    " \n",
    "f2 = clf2.predict(X)\n",
    "acc2 = CalculateAccuracy(y, f2)\n",
    "print(\"accuracy from Random Forest: \"+str(acc2) )\n",
    " \n",
    "f3 = clf3.predict(X)\n",
    "acc3 = CalculateAccuracy(y, f3)\n",
    "print(\"accuracy from Naive Bays: \"+str(acc3) )"
   ]
  },
  {
   "cell_type": "code",
   "execution_count": 7,
   "metadata": {},
   "outputs": [
    {
     "name": "stdout",
     "output_type": "stream",
     "text": [
      "accuracy from Stacking: 97.33333333333333\n"
     ]
    }
   ],
   "source": [
    "f = [f1,f2,f3]\n",
    "f = np.transpose(f)\n",
    " \n",
    "lr.fit(f, y)\n",
    "final = lr.predict(f)\n",
    " \n",
    "acc4 = CalculateAccuracy(y, final)\n",
    "print(\"accuracy from Stacking: \"+str(acc4) )"
   ]
  },
  {
   "cell_type": "code",
   "execution_count": 14,
   "metadata": {},
   "outputs": [
    {
     "name": "stdout",
     "output_type": "stream",
     "text": [
      "3-fold cross validation:\n",
      "\n",
      "[0.9  0.92 0.86]\n",
      "Accuracy: 0.89 (+/- 0.02) [KNN]\n",
      "[0.92 0.88 0.78]\n",
      "Accuracy: 0.86 (+/- 0.06) [Random Forest]\n",
      "[0.9  0.9  0.94]\n",
      "Accuracy: 0.91 (+/- 0.02) [Naive Bayes]\n",
      "[0.92 0.9  0.8 ]\n",
      "Accuracy: 0.87 (+/- 0.05) [StackingClassifier]\n"
     ]
    }
   ],
   "source": [
    "\n",
    "\n",
    "\n",
    "\n",
    " \n",
    "\n",
    "\n",
    "\n",
    "\n",
    "sclf = StackingClassifier(classifiers=[clf1, clf2, clf3], \n",
    "                          meta_classifier=lr)\n",
    "\n",
    "print('3-fold cross validation:\\n')\n",
    "\n",
    "for clf, label in zip([clf1, clf2, clf3, sclf], \n",
    "                      ['KNN', \n",
    "                       'Random Forest', \n",
    "                       'Naive Bayes',\n",
    "                       'StackingClassifier']):\n",
    "\n",
    "    scores = cross_val_score(clf, X, y, cv=3, scoring='accuracy')\n",
    "    print(scores)\n",
    "    print(\"Accuracy: %0.2f (+/- %0.2f) [%s]\"  % (scores.mean(), scores.std(), label))\n",
    "\n",
    "  "
   ]
  }
 ],
 "metadata": {
  "kernelspec": {
   "display_name": "Python 3",
   "language": "python",
   "name": "python3"
  },
  "language_info": {
   "codemirror_mode": {
    "name": "ipython",
    "version": 3
   },
   "file_extension": ".py",
   "mimetype": "text/x-python",
   "name": "python",
   "nbconvert_exporter": "python",
   "pygments_lexer": "ipython3",
   "version": "3.7.4"
  }
 },
 "nbformat": 4,
 "nbformat_minor": 2
}
